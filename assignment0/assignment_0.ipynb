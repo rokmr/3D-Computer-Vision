{
 "cells": [
  {
   "cell_type": "markdown",
   "metadata": {},
   "source": [
    "# Task 1. ChatGPT\n",
    "For this task, play around with ChatGPT. Be creative! Now, mention the prompt and the answer given by ChatGPT in your webpage. You can even mention an interesting conversation.\n",
    "\n",
    "Some of the prompt examples include:\n",
    "\n",
    "Write a song/poem/story/joke.\n",
    "\n",
    "Some puzzle or riddle.\n"
   ]
  },
  {
   "cell_type": "markdown",
   "metadata": {},
   "source": [
    "# Solution:\n",
    "## 1\n",
    "Sure, here's a short poem for you:\n",
    "\n",
    "In fields of gold, the sun sets low,\n",
    "Painting skies with a golden glow.\n",
    "Whispers of wind, a gentle breeze,\n",
    "Dancing through the swaying trees.\n",
    "\n",
    "Stars awaken, a twinkling sight,\n",
    "Guiding dreams through the quiet night.\n",
    "Moonlight falls on paths unknown,\n",
    "Stories untold, a world of its own.\n",
    "\n",
    "Hearts entwined in love's embrace,\n",
    "Moments cherished, time and space.\n",
    "For in this journey, hand in hand,\n",
    "We find our way, where dreams expand.\n",
    "\n",
    "## 2\n",
    "Absolutely! Here's one to get you started:\n",
    "\n",
    "I have a voice, but cannot speak.\n",
    "I have a bed, but never sleep.\n",
    "I have a mouth, but never eat.\n",
    "And I run, but have no feet.\n",
    "\n",
    "What am I?\n",
    "\n",
    "Answer: A river"
   ]
  },
  {
   "cell_type": "markdown",
   "metadata": {},
   "source": [
    "# Task 2. 3D shape images\n",
    "To get you used to uploading images on the webpage, search for a image with an interesting 3D shape. Please mention the source as well."
   ]
  },
  {
   "cell_type": "markdown",
   "metadata": {},
   "source": [
    "# Solution:\n",
    "![Depth2Image](https://ee.iisc.ac.in/cvlab/images/homeimage.jpg)\n",
    "\n",
    "Source: CV LAB IISc"
   ]
  },
  {
   "cell_type": "markdown",
   "metadata": {},
   "source": [
    "# Task 3. Funny GIFs\n",
    "For this task, search around the web for the funniest GIF. Please mention the source as well."
   ]
  },
  {
   "cell_type": "markdown",
   "metadata": {},
   "source": [
    "# Solution\n",
    "![FunnyGIF](https://i.gifer.com/origin/b8/b842107e63c67d5674d17e0f576274fa.gif)\n",
    "\n",
    "Source: gifer.com"
   ]
  }
 ],
 "metadata": {
  "language_info": {
   "name": "python"
  }
 },
 "nbformat": 4,
 "nbformat_minor": 2
}
